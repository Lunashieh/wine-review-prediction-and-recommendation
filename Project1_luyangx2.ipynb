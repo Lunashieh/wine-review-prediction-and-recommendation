{
  "nbformat": 4,
  "nbformat_minor": 0,
  "metadata": {
    "colab": {
      "name": "Individual Project: Wine Review and Recommendation.ipynb",
      "provenance": [],
      "collapsed_sections": []
    },
    "kernelspec": {
      "name": "python3",
      "display_name": "Python 3"
    }
  },
  "cells": [
    {
      "cell_type": "markdown",
      "metadata": {
        "id": "I5hCS7Ik7jYw",
        "colab_type": "text"
      },
      "source": [
        "## Goal:\n",
        "\n",
        "##### 1. This project is going to predict the number of points based on wine reviews:\n",
        "    \n",
        "      f: X -> y\n",
        "*   X will be the input reviews\n",
        "*   y will be value of points\n",
        "\n",
        "\n",
        "##### 2. And construct a small recommendation system to recommend 5 wineries for a customer.\n",
        "---\n",
        "\n",
        "## Roadmap:\n",
        "\n",
        "##### 1. Import data: this project is done on Google Colab, I save the raw dataset downloaded from Kaggle website on Google Drive and then import it to Google Colab.\n",
        "\n",
        "##### 2. Data exploration: \n",
        "\n",
        "*   Overall dataset analysis: check number of missing values, data type of each features;\n",
        "*   Numerical features: descriptive stats, distribution, correlation analysis;\n",
        "*   Categorical features: unique value, distribution analysis.\n",
        "\n",
        "##### 3. Data preprocessing:\n",
        "\n",
        "*   Missing data imputation;\n",
        "*   Drop columns;\n",
        "*   Categorical features: convert long sentences feature to its length, One-hot encoding;\n",
        "*   Reduce dimensionality: PCA.\n",
        "\n",
        "##### 4. Model training and validation:\n",
        "\n",
        "*   KNN: 5-fold cross validation, tuning parameter K;\n",
        "*   CatBoost: feature importance discussion, reduce data dimensionality by dropping unimportant features;\n",
        "\n",
        "##### 5. Small recommendation system -- colaborative filtering:\n",
        "*   Cosine similarity calculation: KNN.\n",
        "---\n",
        "## Results\n",
        "*   KNN model regression analysis: when k = 30, the RMSE of testing data is 2.112;\n",
        "*   CatBoost model: the RMSE of testing data is 1.844, and after dropping unimportant features, the RMSE of testing data is 1.868 (doesn't change much);\n",
        "*   KNN recommendation system: this model only works on customers who have already reviewed on any wines, but doesn't work on new customers.\n",
        "\n",
        "\n",
        "\n",
        "\n",
        "\n",
        "\n"
      ]
    },
    {
      "cell_type": "markdown",
      "metadata": {
        "id": "1fEa_1C2uKTo",
        "colab_type": "text"
      },
      "source": [
        "# Part 0: Setup Google Drive Environment"
      ]
    },
    {
      "cell_type": "code",
      "metadata": {
        "id": "CtVCugutuOfk",
        "colab_type": "code",
        "colab": {}
      },
      "source": [
        "!pip install -U -q PyDrive\n",
        "\n",
        "from pydrive.auth import GoogleAuth\n",
        "from pydrive.drive import GoogleDrive\n",
        "from google.colab import auth\n",
        "from oauth2client.client import GoogleCredentials\n",
        "\n",
        "auth.authenticate_user()\n",
        "gauth = GoogleAuth()\n",
        "gauth.credentials = GoogleCredentials.get_application_default()\n",
        "drive = GoogleDrive(gauth)"
      ],
      "execution_count": 0,
      "outputs": []
    },
    {
      "cell_type": "code",
      "metadata": {
        "id": "zd3BWpQKuRvJ",
        "colab_type": "code",
        "colab": {}
      },
      "source": [
        "link = 'https://drive.google.com/open?id=1JU1ROzMJktzwvgdbajW0HZMEFzKi8ZDI'\n",
        "fluff, id = link.split('=')\n",
        "file = drive.CreateFile({'id':id}) \n",
        "file.GetContentFile('winemag-data_first150k.csv')"
      ],
      "execution_count": 0,
      "outputs": []
    },
    {
      "cell_type": "markdown",
      "metadata": {
        "id": "o_ssFXIoxExd",
        "colab_type": "text"
      },
      "source": [
        "# Part 1: Data Exploration"
      ]
    },
    {
      "cell_type": "markdown",
      "metadata": {
        "id": "oo6xet-rxJzb",
        "colab_type": "text"
      },
      "source": [
        "### Part 1.1: Understand the Raw Dataset"
      ]
    },
    {
      "cell_type": "code",
      "metadata": {
        "id": "msVwUZCmu7FG",
        "colab_type": "code",
        "colab": {}
      },
      "source": [
        "import warnings\n",
        "warnings.filterwarnings('ignore')\n",
        "\n",
        "import pandas as pd\n",
        "import numpy as np\n",
        "import imblearn\n",
        "# will show all the columns\n",
        "pd.set_option('display.max_columns', None)\n",
        "\n",
        "wine_df = pd.read_csv('winemag-data_first150k.csv')"
      ],
      "execution_count": 0,
      "outputs": []
    },
    {
      "cell_type": "code",
      "metadata": {
        "id": "l2uWLhRyvE2A",
        "colab_type": "code",
        "outputId": "50cc6e1c-5a06-4cf9-a0e2-9e5371ea4a8f",
        "colab": {
          "base_uri": "https://localhost:8080/",
          "height": 493
        }
      },
      "source": [
        "wine_df = wine_df.drop('Unnamed: 0', axis = 1)\n",
        "wine_df.head()"
      ],
      "execution_count": 0,
      "outputs": [
        {
          "output_type": "execute_result",
          "data": {
            "text/html": [
              "<div>\n",
              "<style scoped>\n",
              "    .dataframe tbody tr th:only-of-type {\n",
              "        vertical-align: middle;\n",
              "    }\n",
              "\n",
              "    .dataframe tbody tr th {\n",
              "        vertical-align: top;\n",
              "    }\n",
              "\n",
              "    .dataframe thead th {\n",
              "        text-align: right;\n",
              "    }\n",
              "</style>\n",
              "<table border=\"1\" class=\"dataframe\">\n",
              "  <thead>\n",
              "    <tr style=\"text-align: right;\">\n",
              "      <th></th>\n",
              "      <th>country</th>\n",
              "      <th>description</th>\n",
              "      <th>designation</th>\n",
              "      <th>points</th>\n",
              "      <th>price</th>\n",
              "      <th>province</th>\n",
              "      <th>region_1</th>\n",
              "      <th>region_2</th>\n",
              "      <th>taster_name</th>\n",
              "      <th>taster_twitter_handle</th>\n",
              "      <th>title</th>\n",
              "      <th>variety</th>\n",
              "      <th>winery</th>\n",
              "    </tr>\n",
              "  </thead>\n",
              "  <tbody>\n",
              "    <tr>\n",
              "      <th>0</th>\n",
              "      <td>Italy</td>\n",
              "      <td>Aromas include tropical fruit, broom, brimston...</td>\n",
              "      <td>Vulkà Bianco</td>\n",
              "      <td>87</td>\n",
              "      <td>NaN</td>\n",
              "      <td>Sicily &amp; Sardinia</td>\n",
              "      <td>Etna</td>\n",
              "      <td>NaN</td>\n",
              "      <td>Kerin O’Keefe</td>\n",
              "      <td>@kerinokeefe</td>\n",
              "      <td>Nicosia 2013 Vulkà Bianco  (Etna)</td>\n",
              "      <td>White Blend</td>\n",
              "      <td>Nicosia</td>\n",
              "    </tr>\n",
              "    <tr>\n",
              "      <th>1</th>\n",
              "      <td>Portugal</td>\n",
              "      <td>This is ripe and fruity, a wine that is smooth...</td>\n",
              "      <td>Avidagos</td>\n",
              "      <td>87</td>\n",
              "      <td>15.0</td>\n",
              "      <td>Douro</td>\n",
              "      <td>NaN</td>\n",
              "      <td>NaN</td>\n",
              "      <td>Roger Voss</td>\n",
              "      <td>@vossroger</td>\n",
              "      <td>Quinta dos Avidagos 2011 Avidagos Red (Douro)</td>\n",
              "      <td>Portuguese Red</td>\n",
              "      <td>Quinta dos Avidagos</td>\n",
              "    </tr>\n",
              "    <tr>\n",
              "      <th>2</th>\n",
              "      <td>US</td>\n",
              "      <td>Tart and snappy, the flavors of lime flesh and...</td>\n",
              "      <td>NaN</td>\n",
              "      <td>87</td>\n",
              "      <td>14.0</td>\n",
              "      <td>Oregon</td>\n",
              "      <td>Willamette Valley</td>\n",
              "      <td>Willamette Valley</td>\n",
              "      <td>Paul Gregutt</td>\n",
              "      <td>@paulgwine</td>\n",
              "      <td>Rainstorm 2013 Pinot Gris (Willamette Valley)</td>\n",
              "      <td>Pinot Gris</td>\n",
              "      <td>Rainstorm</td>\n",
              "    </tr>\n",
              "    <tr>\n",
              "      <th>3</th>\n",
              "      <td>US</td>\n",
              "      <td>Pineapple rind, lemon pith and orange blossom ...</td>\n",
              "      <td>Reserve Late Harvest</td>\n",
              "      <td>87</td>\n",
              "      <td>13.0</td>\n",
              "      <td>Michigan</td>\n",
              "      <td>Lake Michigan Shore</td>\n",
              "      <td>NaN</td>\n",
              "      <td>Alexander Peartree</td>\n",
              "      <td>NaN</td>\n",
              "      <td>St. Julian 2013 Reserve Late Harvest Riesling ...</td>\n",
              "      <td>Riesling</td>\n",
              "      <td>St. Julian</td>\n",
              "    </tr>\n",
              "    <tr>\n",
              "      <th>4</th>\n",
              "      <td>US</td>\n",
              "      <td>Much like the regular bottling from 2012, this...</td>\n",
              "      <td>Vintner's Reserve Wild Child Block</td>\n",
              "      <td>87</td>\n",
              "      <td>65.0</td>\n",
              "      <td>Oregon</td>\n",
              "      <td>Willamette Valley</td>\n",
              "      <td>Willamette Valley</td>\n",
              "      <td>Paul Gregutt</td>\n",
              "      <td>@paulgwine</td>\n",
              "      <td>Sweet Cheeks 2012 Vintner's Reserve Wild Child...</td>\n",
              "      <td>Pinot Noir</td>\n",
              "      <td>Sweet Cheeks</td>\n",
              "    </tr>\n",
              "  </tbody>\n",
              "</table>\n",
              "</div>"
            ],
            "text/plain": [
              "    country                                        description  \\\n",
              "0     Italy  Aromas include tropical fruit, broom, brimston...   \n",
              "1  Portugal  This is ripe and fruity, a wine that is smooth...   \n",
              "2        US  Tart and snappy, the flavors of lime flesh and...   \n",
              "3        US  Pineapple rind, lemon pith and orange blossom ...   \n",
              "4        US  Much like the regular bottling from 2012, this...   \n",
              "\n",
              "                          designation  points  price           province  \\\n",
              "0                        Vulkà Bianco      87    NaN  Sicily & Sardinia   \n",
              "1                            Avidagos      87   15.0              Douro   \n",
              "2                                 NaN      87   14.0             Oregon   \n",
              "3                Reserve Late Harvest      87   13.0           Michigan   \n",
              "4  Vintner's Reserve Wild Child Block      87   65.0             Oregon   \n",
              "\n",
              "              region_1           region_2         taster_name  \\\n",
              "0                 Etna                NaN       Kerin O’Keefe   \n",
              "1                  NaN                NaN          Roger Voss   \n",
              "2    Willamette Valley  Willamette Valley        Paul Gregutt   \n",
              "3  Lake Michigan Shore                NaN  Alexander Peartree   \n",
              "4    Willamette Valley  Willamette Valley        Paul Gregutt   \n",
              "\n",
              "  taster_twitter_handle                                              title  \\\n",
              "0          @kerinokeefe                  Nicosia 2013 Vulkà Bianco  (Etna)   \n",
              "1            @vossroger      Quinta dos Avidagos 2011 Avidagos Red (Douro)   \n",
              "2           @paulgwine       Rainstorm 2013 Pinot Gris (Willamette Valley)   \n",
              "3                   NaN  St. Julian 2013 Reserve Late Harvest Riesling ...   \n",
              "4           @paulgwine   Sweet Cheeks 2012 Vintner's Reserve Wild Child...   \n",
              "\n",
              "          variety               winery  \n",
              "0     White Blend              Nicosia  \n",
              "1  Portuguese Red  Quinta dos Avidagos  \n",
              "2      Pinot Gris            Rainstorm  \n",
              "3        Riesling           St. Julian  \n",
              "4      Pinot Noir         Sweet Cheeks  "
            ]
          },
          "metadata": {
            "tags": []
          },
          "execution_count": 268
        }
      ]
    },
    {
      "cell_type": "code",
      "metadata": {
        "id": "zs9bb32Dut12",
        "colab_type": "code",
        "outputId": "0fc92c82-873e-4ee8-efd2-078ba54e91e8",
        "colab": {
          "base_uri": "https://localhost:8080/",
          "height": 51
        }
      },
      "source": [
        "print (\"Num of rows: \" + str(wine_df.shape[0])) # row count\n",
        "print (\"Num of columns: \" + str(wine_df.shape[1])) # col count"
      ],
      "execution_count": 0,
      "outputs": [
        {
          "output_type": "stream",
          "text": [
            "Num of rows: 129971\n",
            "Num of columns: 13\n"
          ],
          "name": "stdout"
        }
      ]
    },
    {
      "cell_type": "code",
      "metadata": {
        "id": "YmzpSZZXsVxJ",
        "colab_type": "code",
        "outputId": "3bffea49-acce-4561-c82b-6cf10cf293cd",
        "colab": {
          "base_uri": "https://localhost:8080/",
          "height": 255
        }
      },
      "source": [
        "wine_df.dtypes"
      ],
      "execution_count": 0,
      "outputs": [
        {
          "output_type": "execute_result",
          "data": {
            "text/plain": [
              "country                   object\n",
              "description               object\n",
              "designation               object\n",
              "points                     int64\n",
              "price                    float64\n",
              "province                  object\n",
              "region_1                  object\n",
              "region_2                  object\n",
              "taster_name               object\n",
              "taster_twitter_handle     object\n",
              "title                     object\n",
              "variety                   object\n",
              "winery                    object\n",
              "dtype: object"
            ]
          },
          "metadata": {
            "tags": []
          },
          "execution_count": 270
        }
      ]
    },
    {
      "cell_type": "markdown",
      "metadata": {
        "id": "eidWFGF_QByl",
        "colab_type": "text"
      },
      "source": [
        "Some columns contain missing values, let's see the number of non-missing values in each column:"
      ]
    },
    {
      "cell_type": "code",
      "metadata": {
        "id": "Q6ZNr9BLzZqo",
        "colab_type": "code",
        "outputId": "3ab7b224-7c7f-4bc2-9764-dc8cc569a92d",
        "colab": {
          "base_uri": "https://localhost:8080/",
          "height": 812
        }
      },
      "source": [
        "# Some columns contain missing values, let's see the number of non-missing values in each column:\n",
        "wine_df.describe(include='all',).T\n",
        "import missingno as msno\n",
        "import seaborn as sns\n",
        "msno.bar(wine_df,color= sns.color_palette('viridis'))# missing values"
      ],
      "execution_count": 0,
      "outputs": [
        {
          "output_type": "execute_result",
          "data": {
            "text/plain": [
              "<matplotlib.axes._subplots.AxesSubplot at 0x7f22b6fdd0b8>"
            ]
          },
          "metadata": {
            "tags": []
          },
          "execution_count": 271
        },
        {
          "output_type": "display_data",
          "data": {
            "image/png": "[encoded data removed]",
            "text/plain": [
              "<Figure size 1728x720 with 3 Axes>"
            ]
          },
          "metadata": {
            "tags": []
          }
        }
      ]
    },
    {
      "cell_type": "markdown",
      "metadata": {
        "id": "vfIffcd-VyLY",
        "colab_type": "text"
      },
      "source": [
        "## Part 1.2 Understand the Features \n",
        "### Part 1.2.1 Descriptive Statistics of Numeric Features\n",
        "\n"
      ]
    },
    {
      "cell_type": "code",
      "metadata": {
        "id": "3gUPkARaZFAt",
        "colab_type": "code",
        "outputId": "27777f97-c8c4-41ef-9551-d38816574f35",
        "colab": {
          "base_uri": "https://localhost:8080/",
          "height": 297
        }
      },
      "source": [
        "wine_df.describe()"
      ],
      "execution_count": 0,
      "outputs": [
        {
          "output_type": "execute_result",
          "data": {
            "text/html": [
              "<div>\n",
              "<style scoped>\n",
              "    .dataframe tbody tr th:only-of-type {\n",
              "        vertical-align: middle;\n",
              "    }\n",
              "\n",
              "    .dataframe tbody tr th {\n",
              "        vertical-align: top;\n",
              "    }\n",
              "\n",
              "    .dataframe thead th {\n",
              "        text-align: right;\n",
              "    }\n",
              "</style>\n",
              "<table border=\"1\" class=\"dataframe\">\n",
              "  <thead>\n",
              "    <tr style=\"text-align: right;\">\n",
              "      <th></th>\n",
              "      <th>points</th>\n",
              "      <th>price</th>\n",
              "    </tr>\n",
              "  </thead>\n",
              "  <tbody>\n",
              "    <tr>\n",
              "      <th>count</th>\n",
              "      <td>129971.000000</td>\n",
              "      <td>120975.000000</td>\n",
              "    </tr>\n",
              "    <tr>\n",
              "      <th>mean</th>\n",
              "      <td>88.447138</td>\n",
              "      <td>35.363389</td>\n",
              "    </tr>\n",
              "    <tr>\n",
              "      <th>std</th>\n",
              "      <td>3.039730</td>\n",
              "      <td>41.022218</td>\n",
              "    </tr>\n",
              "    <tr>\n",
              "      <th>min</th>\n",
              "      <td>80.000000</td>\n",
              "      <td>4.000000</td>\n",
              "    </tr>\n",
              "    <tr>\n",
              "      <th>25%</th>\n",
              "      <td>86.000000</td>\n",
              "      <td>17.000000</td>\n",
              "    </tr>\n",
              "    <tr>\n",
              "      <th>50%</th>\n",
              "      <td>88.000000</td>\n",
              "      <td>25.000000</td>\n",
              "    </tr>\n",
              "    <tr>\n",
              "      <th>75%</th>\n",
              "      <td>91.000000</td>\n",
              "      <td>42.000000</td>\n",
              "    </tr>\n",
              "    <tr>\n",
              "      <th>max</th>\n",
              "      <td>100.000000</td>\n",
              "      <td>3300.000000</td>\n",
              "    </tr>\n",
              "  </tbody>\n",
              "</table>\n",
              "</div>"
            ],
            "text/plain": [
              "              points          price\n",
              "count  129971.000000  120975.000000\n",
              "mean       88.447138      35.363389\n",
              "std         3.039730      41.022218\n",
              "min        80.000000       4.000000\n",
              "25%        86.000000      17.000000\n",
              "50%        88.000000      25.000000\n",
              "75%        91.000000      42.000000\n",
              "max       100.000000    3300.000000"
            ]
          },
          "metadata": {
            "tags": []
          },
          "execution_count": 272
        }
      ]
    },
    {
      "cell_type": "code",
      "metadata": {
        "id": "AQegflomxj7u",
        "colab_type": "code",
        "outputId": "9547f986-4c71-49b1-955b-5b596e30e370",
        "colab": {
          "base_uri": "https://localhost:8080/",
          "height": 296
        }
      },
      "source": [
        "%matplotlib inline\n",
        "import matplotlib.pyplot as plt\n",
        "import seaborn as sns\n",
        "\n",
        "# Check distribution of 'points':\n",
        "sns.distplot(wine_df['points'], bins = 20)"
      ],
      "execution_count": 0,
      "outputs": [
        {
          "output_type": "execute_result",
          "data": {
            "text/plain": [
              "<matplotlib.axes._subplots.AxesSubplot at 0x7f22ba3445c0>"
            ]
          },
          "metadata": {
            "tags": []
          },
          "execution_count": 273
        },
        {
          "output_type": "display_data",
          "data": {
            "image/png": "[encoded data removed]",
            "text/plain": [
              "<Figure size 432x288 with 1 Axes>"
            ]
          },
          "metadata": {
            "tags": []
          }
        }
      ]
    },
    {
      "cell_type": "markdown",
      "metadata": {
        "id": "llyAoTNA9NQ4",
        "colab_type": "text"
      },
      "source": [
        "The range of points is in [80, 100],most of the wines have points less than 90."
      ]
    },
    {
      "cell_type": "code",
      "metadata": {
        "id": "J5Mo-FeH_3hP",
        "colab_type": "code",
        "outputId": "cccc8e79-ff7a-483b-ed31-cfa2f4e79c03",
        "colab": {
          "base_uri": "https://localhost:8080/",
          "height": 296
        }
      },
      "source": [
        "# Distribution of 'price':\n",
        "sns.distplot(wine_df['price'].dropna())"
      ],
      "execution_count": 0,
      "outputs": [
        {
          "output_type": "execute_result",
          "data": {
            "text/plain": [
              "<matplotlib.axes._subplots.AxesSubplot at 0x7f22b6ea6d68>"
            ]
          },
          "metadata": {
            "tags": []
          },
          "execution_count": 274
        },
        {
          "output_type": "display_data",
          "data": {
            "image/png": "[encoded data removed]",
            "text/plain": [
              "<Figure size 432x288 with 1 Axes>"
            ]
          },
          "metadata": {
            "tags": []
          }
        }
      ]
    },
    {
      "cell_type": "code",
      "metadata": {
        "id": "5ePR62gLWQdg",
        "colab_type": "code",
        "outputId": "9d049e34-21b8-4103-ce20-972d90eec76f",
        "colab": {
          "base_uri": "https://localhost:8080/",
          "height": 279
        }
      },
      "source": [
        "# Distribution of log transformed 'price'\n",
        "ax = sns.distplot(np.log(wine_df['price']).dropna())\n",
        "ax.set(xlabel = 'log(price)')\n",
        "plt.show()"
      ],
      "execution_count": 0,
      "outputs": [
        {
          "output_type": "display_data",
          "data": {
            "image/png": "[encoded data removed]",
            "text/plain": [
              "<Figure size 432x288 with 1 Axes>"
            ]
          },
          "metadata": {
            "tags": []
          }
        }
      ]
    },
    {
      "cell_type": "markdown",
      "metadata": {
        "id": "VRXckxsr_1kr",
        "colab_type": "text"
      },
      "source": [
        " The range of 'price' is in [4, 3300], however, only a small number of wines have price higher than 45. After log trasformation, the distribution seems closer to normal distribution."
      ]
    },
    {
      "cell_type": "code",
      "metadata": {
        "id": "MW2QF26XJlEp",
        "colab_type": "code",
        "outputId": "8f45a1f0-3bd8-4f57-d0f3-ce807538b59b",
        "colab": {
          "base_uri": "https://localhost:8080/",
          "height": 441
        }
      },
      "source": [
        "# Correlation between 'points' and 'log(price)':\n",
        "df_plot = pd.DataFrame(data={'points': wine_df['points'], 'log(price)': np.log(wine_df['price'])})\n",
        "sns.jointplot(x = 'points', y = 'log(price)', data = df_plot, kind = 'reg');"
      ],
      "execution_count": 0,
      "outputs": [
        {
          "output_type": "display_data",
          "data": {
            "image/png": "[encoded data removed]",
            "text/plain": [
              "<Figure size 432x432 with 3 Axes>"
            ]
          },
          "metadata": {
            "tags": []
          }
        }
      ]
    },
    {
      "cell_type": "markdown",
      "metadata": {
        "id": "hMU8D3taNykp",
        "colab_type": "text"
      },
      "source": [
        "Generally speaking, expensive wines tend to have higher points.\n"
      ]
    },
    {
      "cell_type": "markdown",
      "metadata": {
        "id": "jhiqNgWvJHDF",
        "colab_type": "text"
      },
      "source": [
        "### Part 1.2.2 Distribution of Categorical Features\n",
        "1. Check number of unique values in each column"
      ]
    },
    {
      "cell_type": "code",
      "metadata": {
        "id": "2HoEONT5EMjr",
        "colab_type": "code",
        "outputId": "e19f0784-49b9-4922-ad99-b3d5d8e4bfe8",
        "colab": {
          "base_uri": "https://localhost:8080/",
          "height": 255
        }
      },
      "source": [
        "wine_df.nunique()"
      ],
      "execution_count": 0,
      "outputs": [
        {
          "output_type": "execute_result",
          "data": {
            "text/plain": [
              "country                      43\n",
              "description              119955\n",
              "designation               37979\n",
              "points                       21\n",
              "price                       390\n",
              "province                    425\n",
              "region_1                   1229\n",
              "region_2                     17\n",
              "taster_name                  19\n",
              "taster_twitter_handle        15\n",
              "title                    118840\n",
              "variety                     707\n",
              "winery                    16757\n",
              "dtype: int64"
            ]
          },
          "metadata": {
            "tags": []
          },
          "execution_count": 277
        }
      ]
    },
    {
      "cell_type": "markdown",
      "metadata": {
        "id": "Ynz4M99WEhxd",
        "colab_type": "text"
      },
      "source": [
        "'description' and 'title' columns have more than 91% unique values which are not informative. Thus I remove them in data preprocessing part later."
      ]
    },
    {
      "cell_type": "markdown",
      "metadata": {
        "id": "T_ecSwFMa_zd",
        "colab_type": "text"
      },
      "source": [
        "2. Due to limited space, only some of the categorical variables are displayed here. I use barplot to display the top 20 frequent values for each variable."
      ]
    },
    {
      "cell_type": "code",
      "metadata": {
        "id": "ooRNo4eKTNdX",
        "colab_type": "code",
        "outputId": "e12f020b-65ba-4e13-9157-a629ed22f4c4",
        "colab": {
          "base_uri": "https://localhost:8080/",
          "height": 352
        }
      },
      "source": [
        "plt.bar(x = wine_df['country'].value_counts()[0:19].index, height = wine_df['country'].value_counts()[0:19].values)\n",
        "plt.xticks(rotation=90)\n",
        "plt.xlabel('country')"
      ],
      "execution_count": 0,
      "outputs": [
        {
          "output_type": "execute_result",
          "data": {
            "text/plain": [
              "Text(0.5, 0, 'country')"
            ]
          },
          "metadata": {
            "tags": []
          },
          "execution_count": 278
        },
        {
          "output_type": "display_data",
          "data": {
            "image/png": "[encoded data removed]",
            "text/plain": [
              "<Figure size 432x288 with 1 Axes>"
            ]
          },
          "metadata": {
            "tags": []
          }
        }
      ]
    },
    {
      "cell_type": "markdown",
      "metadata": {
        "id": "V4YObGSTG3zO",
        "colab_type": "text"
      },
      "source": [
        "US, France and Italy are the three main countries where the wines come from."
      ]
    },
    {
      "cell_type": "code",
      "metadata": {
        "id": "Utuv4_F5WkOV",
        "colab_type": "code",
        "outputId": "4ee1e21c-e9e4-46d7-ef2c-8c5d30c1e91d",
        "colab": {
          "base_uri": "https://localhost:8080/",
          "height": 416
        }
      },
      "source": [
        "plt.bar(x = wine_df['variety'].value_counts()[0:19].index, height = wine_df['variety'].value_counts()[0:19].values)\n",
        "plt.xticks(rotation=90)\n",
        "plt.xlabel('variety')"
      ],
      "execution_count": 0,
      "outputs": [
        {
          "output_type": "execute_result",
          "data": {
            "text/plain": [
              "Text(0.5, 0, 'variety')"
            ]
          },
          "metadata": {
            "tags": []
          },
          "execution_count": 279
        },
        {
          "output_type": "display_data",
          "data": {
            "image/png": "[encoded data removed]",
            "text/plain": [
              "<Figure size 432x288 with 1 Axes>"
            ]
          },
          "metadata": {
            "tags": []
          }
        }
      ]
    },
    {
      "cell_type": "markdown",
      "metadata": {
        "id": "E6nxW7UzHdI3",
        "colab_type": "text"
      },
      "source": [
        "Pinot Noir is the most popular variety, and chrdonnay is the second popular one."
      ]
    },
    {
      "cell_type": "code",
      "metadata": {
        "id": "EYkRb-V9mjVp",
        "colab_type": "code",
        "outputId": "4ca7d690-ffe4-44d5-d5fa-d666d2fc3ecb",
        "colab": {
          "base_uri": "https://localhost:8080/",
          "height": 422
        }
      },
      "source": [
        "plt.bar(x = wine_df['winery'].value_counts()[0:19].index, height = wine_df['winery'].value_counts()[0:19].values)\n",
        "plt.xticks(rotation=90)\n",
        "plt.xlabel('winery')"
      ],
      "execution_count": 0,
      "outputs": [
        {
          "output_type": "execute_result",
          "data": {
            "text/plain": [
              "Text(0.5, 0, 'winery')"
            ]
          },
          "metadata": {
            "tags": []
          },
          "execution_count": 280
        },
        {
          "output_type": "display_data",
          "data": {
            "image/png": "[encoded data removed]",
            "text/plain": [
              "<Figure size 432x288 with 1 Axes>"
            ]
          },
          "metadata": {
            "tags": []
          }
        }
      ]
    },
    {
      "cell_type": "markdown",
      "metadata": {
        "id": "T-n4CT5AIlBo",
        "colab_type": "text"
      },
      "source": [
        "There are many unique values in column 'winery', most of them occur less than 200 times. Thus this is not a very informative column."
      ]
    },
    {
      "cell_type": "markdown",
      "metadata": {
        "id": "cJf20v7JJ9qF",
        "colab_type": "text"
      },
      "source": [
        "### Part 1.2.3 Descriptive Statistics of a Special Column: 'description'"
      ]
    },
    {
      "cell_type": "markdown",
      "metadata": {
        "id": "G5XyuWUfKHcB",
        "colab_type": "text"
      },
      "source": [
        "I tend to convert description column to its length (a new numeric column) in Part 1.2.3, before doing that, let's analyze if there is any correlation between length of descriptions and points."
      ]
    },
    {
      "cell_type": "code",
      "metadata": {
        "id": "Xywc2D_zLEkH",
        "colab_type": "code",
        "outputId": "9f104733-2e25-4966-c5de-52203884fbb6",
        "colab": {
          "base_uri": "https://localhost:8080/",
          "height": 441
        }
      },
      "source": [
        "description_to_plot = wine_df['description'].apply(lambda x: len(x.split()))\n",
        "desription_plot = pd.DataFrame(data={'points': wine_df['points'], 'length of description': description_to_plot})\n",
        "sns.jointplot(x = 'points', y = 'length of description', data = desription_plot, kind = 'reg');"
      ],
      "execution_count": 0,
      "outputs": [
        {
          "output_type": "display_data",
          "data": {
            "image/png": "[encoded data removed]",
            "text/plain": [
              "<Figure size 432x432 with 3 Axes>"
            ]
          },
          "metadata": {
            "tags": []
          }
        }
      ]
    },
    {
      "cell_type": "markdown",
      "metadata": {
        "id": "mDu_mEp8xhhg",
        "colab_type": "text"
      },
      "source": [
        "# Part 2 Data Preprocessing\n",
        "I preprocess **2** groups of data ([X, y] and [X2, y2]):\n",
        "1. The first group of data [X, y] is for **KNN** model training. Generally speaking, I perform One-Hot Encoding on categorical variables and then apply Principle Component Analysis on that high dimensional data.\n",
        "2. Another group of data [X2, y2] is for the second model. Because this dataset contains a lot of categorical variables, the second model I choose is **Catboost**, which is a utility model relates to a gradient lifting algorithm library, and can deal with class type features well."
      ]
    },
    {
      "cell_type": "markdown",
      "metadata": {
        "id": "BzTLqA8jShkT",
        "colab_type": "text"
      },
      "source": [
        "## Part 2.1 Preprocess Data for KNN Model\n",
        "### Part 2.1.1 Drop Columns"
      ]
    },
    {
      "cell_type": "markdown",
      "metadata": {
        "id": "OD6E-WaRw3M7",
        "colab_type": "text"
      },
      "source": [
        "Remove the first index column and columns 'designation', 'region_2', 'taster_name', 'taster_twitter_handle' which have more than 20% missing values.\n",
        "Also, remove 'title' and 'description' columns which have more than 91% unique values."
      ]
    },
    {
      "cell_type": "code",
      "metadata": {
        "id": "rmMYa5qw0bYc",
        "colab_type": "code",
        "colab": {}
      },
      "source": [
        "wine_prep = wine_df\n",
        "to_drop = ['designation','region_2','taster_name','taster_twitter_handle', 'title', 'description']\n",
        "wine_prep = wine_prep.drop(to_drop, axis=1)"
      ],
      "execution_count": 0,
      "outputs": []
    },
    {
      "cell_type": "markdown",
      "metadata": {
        "id": "rsS3dVWG1c-9",
        "colab_type": "text"
      },
      "source": [
        "### Part 2.1.2 Preprocess Numeric Features\n",
        "1. replacing missing values in column 'points' and 'price'."
      ]
    },
    {
      "cell_type": "code",
      "metadata": {
        "id": "6xC5nGHN2Qjf",
        "colab_type": "code",
        "outputId": "24dff934-cc09-44a3-adb5-323167da75b6",
        "colab": {
          "base_uri": "https://localhost:8080/",
          "height": 204
        }
      },
      "source": [
        "wine_prep['points'] = (wine_prep['points'].fillna(wine_df['points'].mean())).astype('int64')\n",
        "wine_prep['price'] = (wine_prep['price'].fillna((wine_df['price'].mean()))).astype('float64')\n",
        "wine_prep.head()"
      ],
      "execution_count": 0,
      "outputs": [
        {
          "output_type": "execute_result",
          "data": {
            "text/html": [
              "<div>\n",
              "<style scoped>\n",
              "    .dataframe tbody tr th:only-of-type {\n",
              "        vertical-align: middle;\n",
              "    }\n",
              "\n",
              "    .dataframe tbody tr th {\n",
              "        vertical-align: top;\n",
              "    }\n",
              "\n",
              "    .dataframe thead th {\n",
              "        text-align: right;\n",
              "    }\n",
              "</style>\n",
              "<table border=\"1\" class=\"dataframe\">\n",
              "  <thead>\n",
              "    <tr style=\"text-align: right;\">\n",
              "      <th></th>\n",
              "      <th>country</th>\n",
              "      <th>points</th>\n",
              "      <th>price</th>\n",
              "      <th>province</th>\n",
              "      <th>region_1</th>\n",
              "      <th>variety</th>\n",
              "      <th>winery</th>\n",
              "    </tr>\n",
              "  </thead>\n",
              "  <tbody>\n",
              "    <tr>\n",
              "      <th>0</th>\n",
              "      <td>Italy</td>\n",
              "      <td>87</td>\n",
              "      <td>35.363389</td>\n",
              "      <td>Sicily &amp; Sardinia</td>\n",
              "      <td>Etna</td>\n",
              "      <td>White Blend</td>\n",
              "      <td>Nicosia</td>\n",
              "    </tr>\n",
              "    <tr>\n",
              "      <th>1</th>\n",
              "      <td>Portugal</td>\n",
              "      <td>87</td>\n",
              "      <td>15.000000</td>\n",
              "      <td>Douro</td>\n",
              "      <td>NaN</td>\n",
              "      <td>Portuguese Red</td>\n",
              "      <td>Quinta dos Avidagos</td>\n",
              "    </tr>\n",
              "    <tr>\n",
              "      <th>2</th>\n",
              "      <td>US</td>\n",
              "      <td>87</td>\n",
              "      <td>14.000000</td>\n",
              "      <td>Oregon</td>\n",
              "      <td>Willamette Valley</td>\n",
              "      <td>Pinot Gris</td>\n",
              "      <td>Rainstorm</td>\n",
              "    </tr>\n",
              "    <tr>\n",
              "      <th>3</th>\n",
              "      <td>US</td>\n",
              "      <td>87</td>\n",
              "      <td>13.000000</td>\n",
              "      <td>Michigan</td>\n",
              "      <td>Lake Michigan Shore</td>\n",
              "      <td>Riesling</td>\n",
              "      <td>St. Julian</td>\n",
              "    </tr>\n",
              "    <tr>\n",
              "      <th>4</th>\n",
              "      <td>US</td>\n",
              "      <td>87</td>\n",
              "      <td>65.000000</td>\n",
              "      <td>Oregon</td>\n",
              "      <td>Willamette Valley</td>\n",
              "      <td>Pinot Noir</td>\n",
              "      <td>Sweet Cheeks</td>\n",
              "    </tr>\n",
              "  </tbody>\n",
              "</table>\n",
              "</div>"
            ],
            "text/plain": [
              "    country  points      price           province             region_1  \\\n",
              "0     Italy      87  35.363389  Sicily & Sardinia                 Etna   \n",
              "1  Portugal      87  15.000000              Douro                  NaN   \n",
              "2        US      87  14.000000             Oregon    Willamette Valley   \n",
              "3        US      87  13.000000           Michigan  Lake Michigan Shore   \n",
              "4        US      87  65.000000             Oregon    Willamette Valley   \n",
              "\n",
              "          variety               winery  \n",
              "0     White Blend              Nicosia  \n",
              "1  Portuguese Red  Quinta dos Avidagos  \n",
              "2      Pinot Gris            Rainstorm  \n",
              "3        Riesling           St. Julian  \n",
              "4      Pinot Noir         Sweet Cheeks  "
            ]
          },
          "metadata": {
            "tags": []
          },
          "execution_count": 283
        }
      ]
    },
    {
      "cell_type": "markdown",
      "metadata": {
        "id": "7BI3Smkj5O-z",
        "colab_type": "text"
      },
      "source": [
        "### Part 2.1.3 Preprocess Categorical Features\n",
        "\n",
        "1. replacing values that don't appear frequently with 'others' \n",
        "2. applying One-Hot Encoding on categorical features\n",
        "3. applying PCA on features to reduce feature dimension"
      ]
    },
    {
      "cell_type": "code",
      "metadata": {
        "id": "QcDOxHATEN_v",
        "colab_type": "code",
        "colab": {}
      },
      "source": [
        "# Replace non-frequent values with 'Others':\n",
        "def others(x):\n",
        "  to_replace = x.value_counts().index[(x.value_counts() < 100)]\n",
        "  x[x.apply(lambda x_1: x_1 in to_replace)] = 'Others'\n",
        "  return x\n",
        "enc_cols = wine_prep.drop(['price', 'points'], axis = 1)\n",
        "enc_cols = enc_cols.apply(others)\n",
        "\n",
        "# One-Hot encoding:\n",
        "dummies = pd.get_dummies(enc_cols) \n",
        "\n",
        "# Combined with 'price':\n",
        "wine_encoded = pd.concat([wine_prep['price'], dummies], axis = 1)"
      ],
      "execution_count": 0,
      "outputs": []
    },
    {
      "cell_type": "markdown",
      "metadata": {
        "id": "WXQIadbKQrm9",
        "colab_type": "text"
      },
      "source": [
        "### Part 2.1.4 Replace Feature 'description' with Its Length"
      ]
    },
    {
      "cell_type": "code",
      "metadata": {
        "id": "bkrlMCQ6RAyd",
        "colab_type": "code",
        "colab": {}
      },
      "source": [
        "description_len = wine_df['description'].apply(lambda x: len(x.split()))\n",
        "wine_encoded = pd.concat([wine_encoded, description_len], axis = 1)"
      ],
      "execution_count": 0,
      "outputs": []
    },
    {
      "cell_type": "markdown",
      "metadata": {
        "id": "Thx3gI88YoOE",
        "colab_type": "text"
      },
      "source": [
        "### Part 2.1.5 Principal Component Analysis "
      ]
    },
    {
      "cell_type": "markdown",
      "metadata": {
        "id": "HGeK7xyAZDxK",
        "colab_type": "text"
      },
      "source": [
        "Because the dimension of encoded dataset for KNN model is very high, the training speed will be slow. After applying PCA method, the final training dataset contains 50 features."
      ]
    },
    {
      "cell_type": "code",
      "metadata": {
        "id": "EpkePJeAYbXo",
        "colab_type": "code",
        "outputId": "527f367c-a528-4172-92cd-de1a5480c2be",
        "colab": {
          "base_uri": "https://localhost:8080/",
          "height": 51
        }
      },
      "source": [
        "from sklearn import decomposition\n",
        "\n",
        "X = wine_encoded\n",
        "y = wine_df['points']\n",
        "\n",
        "# PCA\n",
        "pca = decomposition.PCA(n_components=50)\n",
        "pca.fit(X)\n",
        "X = pca.transform(X)\n",
        "print('The dimension of the first training dataset is:')\n",
        "X.shape"
      ],
      "execution_count": 0,
      "outputs": [
        {
          "output_type": "stream",
          "text": [
            "The dimension of the first training dataset is:\n"
          ],
          "name": "stdout"
        },
        {
          "output_type": "execute_result",
          "data": {
            "text/plain": [
              "(129971, 50)"
            ]
          },
          "metadata": {
            "tags": []
          },
          "execution_count": 286
        }
      ]
    },
    {
      "cell_type": "markdown",
      "metadata": {
        "id": "AsJIY5ojS3ak",
        "colab_type": "text"
      },
      "source": [
        "## Part 2.2 Preprocess Data for Catboost"
      ]
    },
    {
      "cell_type": "code",
      "metadata": {
        "id": "G1Fm4X2jTHfw",
        "colab_type": "code",
        "outputId": "e14ac151-8047-4e56-a81c-720ce6d97b61",
        "colab": {
          "base_uri": "https://localhost:8080/",
          "height": 51
        }
      },
      "source": [
        "wine_prep2 = wine_df\n",
        "y2 = (wine_prep2['points'].fillna(wine_df['points'].mean())).astype('int64')\n",
        "wine_prep2['price'] = (wine_prep2['price'].fillna((wine_df['price'].mean()))).astype('float64')\n",
        "to_drop = ['description', 'points']\n",
        "wine_prep2 = wine_prep2.drop(to_drop, axis=1)\n",
        "X2 = pd.concat([wine_prep2, description_len], axis = 1)\n",
        "X2=X2.fillna(-1)\n",
        "print('The dimension of the second training dataset is:')\n",
        "X2.shape"
      ],
      "execution_count": 0,
      "outputs": [
        {
          "output_type": "stream",
          "text": [
            "The dimension of the second training dataset is:\n"
          ],
          "name": "stdout"
        },
        {
          "output_type": "execute_result",
          "data": {
            "text/plain": [
              "(129971, 12)"
            ]
          },
          "metadata": {
            "tags": []
          },
          "execution_count": 287
        }
      ]
    },
    {
      "cell_type": "markdown",
      "metadata": {
        "id": "3pSB7LWj03OZ",
        "colab_type": "text"
      },
      "source": [
        "# Part 3: Regression Model Analysis\n",
        "## Part 3.1 K-Nearest Neighbors\n",
        "### Part 3.1.1 Split Dataset"
      ]
    },
    {
      "cell_type": "code",
      "metadata": {
        "id": "KhMiqMU--uV8",
        "colab_type": "code",
        "outputId": "24d4fff4-35eb-4c4b-c6f8-42591096d68d",
        "colab": {
          "base_uri": "https://localhost:8080/",
          "height": 51
        }
      },
      "source": [
        "# Split data into training and testing\n",
        "from sklearn import model_selection\n",
        "\n",
        "# Reserve 20% for testing\n",
        "X_train, X_test, y_train, y_test = model_selection.train_test_split(X, y, test_size=0.2)\n",
        "\n",
        "print('training data has %d observation with %d features'% X_train.shape)\n",
        "print('test data has %d observation with %d features'% X_test.shape)"
      ],
      "execution_count": 0,
      "outputs": [
        {
          "output_type": "stream",
          "text": [
            "training data has 103976 observation with 50 features\n",
            "test data has 25995 observation with 50 features\n"
          ],
          "name": "stdout"
        }
      ]
    },
    {
      "cell_type": "markdown",
      "metadata": {
        "id": "Ll0oGgDqB3aN",
        "colab_type": "text"
      },
      "source": [
        "### Part 3.1.2 Model Training and Validation"
      ]
    },
    {
      "cell_type": "code",
      "metadata": {
        "id": "v-phKoDTB4x_",
        "colab_type": "code",
        "colab": {}
      },
      "source": [
        "# Build model\n",
        "from sklearn.neighbors import KNeighborsRegressor\n",
        "\n",
        "# K Nearest Neighbors\n",
        "regressor_KNN = KNeighborsRegressor()\n"
      ],
      "execution_count": 0,
      "outputs": []
    },
    {
      "cell_type": "markdown",
      "metadata": {
        "id": "VTH-USNEWkQw",
        "colab_type": "text"
      },
      "source": [
        "Use 5-fold Cross Validation to get the mean squared error for KNN:"
      ]
    },
    {
      "cell_type": "code",
      "metadata": {
        "id": "g4s0mKTS-CAh",
        "colab_type": "code",
        "outputId": "4bae11dc-7434-402d-95f1-a3d50fdc64c7",
        "colab": {
          "base_uri": "https://localhost:8080/",
          "height": 51
        }
      },
      "source": [
        "# Use 5-fold Cross Validation to get the mean squared error for different models\n",
        "model_names = ['KNN']\n",
        "model_list = [regressor_KNN]\n",
        "count = 0\n",
        "\n",
        "for regressor in model_list:\n",
        "  cv_score = model_selection.cross_val_score(regressor, X, y, cv=5, scoring='neg_mean_squared_error')\n",
        "  cv_score = np.sqrt(-cv_score)\n",
        "  print(cv_score)\n",
        "  print('Model RMSE of %s is: %.3f'%(model_names[count], cv_score.mean()))"
      ],
      "execution_count": 0,
      "outputs": [
        {
          "output_type": "stream",
          "text": [
            "[2.21111219 2.22051193 2.14503297 2.2102439  2.2033381 ]\n",
            "Model RMSE of KNN is: 2.198\n"
          ],
          "name": "stdout"
        }
      ]
    },
    {
      "cell_type": "markdown",
      "metadata": {
        "id": "4qyLnahuahuJ",
        "colab_type": "text"
      },
      "source": [
        "## Part 3.2 Tuning Model Parameters for KNN"
      ]
    },
    {
      "cell_type": "markdown",
      "metadata": {
        "id": "ijdPgBv7TqUJ",
        "colab_type": "text"
      },
      "source": [
        "Change the number of neighbors in the KNN model (I don't use cross validation here because it takes very long time to run):\n",
        "\n"
      ]
    },
    {
      "cell_type": "code",
      "metadata": {
        "id": "E5pV8CWLbVKO",
        "colab_type": "code",
        "outputId": "08751776-9c35-46eb-9eb3-6eb62abe57a8",
        "colab": {
          "base_uri": "https://localhost:8080/",
          "height": 312
        }
      },
      "source": [
        "# change the number of neighbors (10, 20, 30, 40, 50, 60) in the KNN model\n",
        "from sklearn.metrics import mean_squared_error\n",
        "rmse_KNN = []\n",
        "for n in [10, 20, 30, 40, 50, 60]:\n",
        "  regressor_KNN = KNeighborsRegressor(n_neighbors = n)\n",
        "  regressor_KNN.fit(X_train, y_train)\n",
        "  y_predict_KNN = regressor_KNN.predict(X_test)\n",
        "  rmse_KNN.append((mean_squared_error(y_test, y_predict_KNN))**0.5)\n",
        "\n",
        "import matplotlib.pyplot as plt\n",
        "plt.bar(np.arange(6), rmse_KNN, align='center', alpha=0.5)\n",
        "plt.ylabel('Root Mean Squared Error')\n",
        "plt.xlabel('Number of Neighbors')\n",
        "plt.title('Tuning KNN Model Parameter')\n",
        "plt.xticks(np.arange(6), [10, 20, 30, 40, 50, 60])\n",
        "axes = plt.gca()\n",
        "axes.set_ylim([2.0, 2.2])\n",
        "plt.show()\n",
        "print('When k = 30, KNN model has the best estimation with root mean squared error = %.3f' % min(rmse_KNN) )"
      ],
      "execution_count": 0,
      "outputs": [
        {
          "output_type": "display_data",
          "data": {
            "image/png": "[encoded data removed]",
            "text/plain": [
              "<Figure size 432x288 with 1 Axes>"
            ]
          },
          "metadata": {
            "tags": []
          }
        },
        {
          "output_type": "stream",
          "text": [
            "When k = 30, KNN model has the best estimation with root mean squared error = 2.115\n"
          ],
          "name": "stdout"
        }
      ]
    },
    {
      "cell_type": "markdown",
      "metadata": {
        "id": "mn68ILCzVq73",
        "colab_type": "text"
      },
      "source": [
        "## Part 3.3 CatBoost\n",
        "Cat Boost has two advantages:\n",
        "1. Firstly, it deals with categorical features in the training process rather than in the pre-processing stage. \n",
        "2. Secondly, the algorithm for calculating leaf nodes can avoid overfitting when choosing tree structure."
      ]
    },
    {
      "cell_type": "markdown",
      "metadata": {
        "id": "tMkEz1L4rTjz",
        "colab_type": "text"
      },
      "source": [
        "### Part 3.3.1 Split Dataset\n"
      ]
    },
    {
      "cell_type": "code",
      "metadata": {
        "id": "lbm7G5FjWMRI",
        "colab_type": "code",
        "colab": {}
      },
      "source": [
        "categorical_features_indices =[0,1,3,4,5,6,7,8,9,10]\n",
        "\n",
        "X_train2, X_test2, y_train2, y_test2 = train_test_split(X2, y2, test_size=0.2, \n",
        "                                                    random_state=42)\n",
        "\n",
        "X_train2, X_valid2, y_train2, y_valid2 = train_test_split(X_train2, y_train2, test_size=0.2, \n",
        "                                                    random_state=52)"
      ],
      "execution_count": 0,
      "outputs": []
    },
    {
      "cell_type": "markdown",
      "metadata": {
        "id": "q3Fv12bHjNoW",
        "colab_type": "text"
      },
      "source": [
        "### Part 3.3.2 Cat Boost Model Training and Testing"
      ]
    },
    {
      "cell_type": "code",
      "metadata": {
        "id": "pkbgXM3BiPjz",
        "colab_type": "code",
        "colab": {}
      },
      "source": [
        "def perform_model(X_train, y_train, X_valid, y_valid, X_test, y_test):\n",
        "    model = CatBoostRegressor(\n",
        "        random_seed = 400,\n",
        "        loss_function = 'RMSE',\n",
        "        iterations=400,\n",
        "    )\n",
        "    \n",
        "    model.fit(\n",
        "        X_train, y_train,\n",
        "        cat_features = categorical_features_indices,\n",
        "        eval_set=(X_valid, y_valid),\n",
        "        verbose=False\n",
        "    )\n",
        "\n",
        "    y_train_pred = model.predict(X_train)\n",
        "    rmse_train = (np.mean((y_train - y_train_pred) **2)) **0.5\n",
        "\n",
        "    y_test_pred = model.predict(X_test)\n",
        "    rmse_test = (np.mean((y_test - y_test_pred) **2)) **0.5\n",
        "\n",
        "    print(\"RMSE on training data: \", rmse_train)\n",
        "    print(\"RMSE on test data: \", rmse_test)\n",
        "    \n",
        "    return model"
      ],
      "execution_count": 0,
      "outputs": []
    },
    {
      "cell_type": "code",
      "metadata": {
        "id": "pQUvfeHsjK0x",
        "colab_type": "code",
        "outputId": "4dfe3e09-6db5-4a60-ef81-4e95af593fbe",
        "colab": {
          "base_uri": "https://localhost:8080/",
          "height": 51
        }
      },
      "source": [
        "model=perform_model(X_train2, y_train2, X_valid2, y_valid2, X_test2, y_test2)"
      ],
      "execution_count": 0,
      "outputs": [
        {
          "output_type": "stream",
          "text": [
            "RMSE on training data:  1.535566132453336\n",
            "RMSE on test data:  1.8444138832320554\n"
          ],
          "name": "stdout"
        }
      ]
    },
    {
      "cell_type": "markdown",
      "metadata": {
        "id": "ycuLy0T8jf9z",
        "colab_type": "text"
      },
      "source": [
        "## Part 3.4 CatBoost Feature Importance Discussion"
      ]
    },
    {
      "cell_type": "code",
      "metadata": {
        "id": "5GGWzmuejz1r",
        "colab_type": "code",
        "colab": {}
      },
      "source": [
        "feature_score = pd.DataFrame(list(zip(X2.dtypes.index, model.get_feature_importance(Pool(X2, label=y2, cat_features=categorical_features_indices)))),\n",
        "                columns=['Feature','Score'])\n",
        "\n",
        "feature_score = feature_score.sort_values(by='Score', ascending=False, inplace=False, kind='quicksort', na_position='last')"
      ],
      "execution_count": 0,
      "outputs": []
    },
    {
      "cell_type": "code",
      "metadata": {
        "id": "pmRwErmMkbWw",
        "colab_type": "code",
        "outputId": "7523ab09-6ccf-452f-9c96-50e2bbedc583",
        "colab": {
          "base_uri": "https://localhost:8080/",
          "height": 542
        }
      },
      "source": [
        "plt.rcParams[\"figure.figsize\"] = (12,7)\n",
        "ax = feature_score.plot('Feature', 'Score', kind='bar')\n",
        "ax.set_title(\"Catboost Feature Importance Ranking\", fontsize = 14)\n",
        "ax.set_xlabel('')\n",
        "\n",
        "rects = ax.patches\n",
        "\n",
        "labels = feature_score['Score'].round(2)\n",
        "\n",
        "for rect, label in zip(rects, labels):\n",
        "    height = rect.get_height()\n",
        "    ax.text(rect.get_x() + rect.get_width()/2, height + 0.35, label, ha='center', va='bottom')\n",
        "\n",
        "plt.show()"
      ],
      "execution_count": 0,
      "outputs": [
        {
          "output_type": "display_data",
          "data": {
            "image/png": "[encoded data removed]",
            "text/plain": [
              "<Figure size 864x504 with 1 Axes>"
            ]
          },
          "metadata": {
            "tags": []
          }
        }
      ]
    },
    {
      "cell_type": "markdown",
      "metadata": {
        "id": "VVXgLmsJkw4Z",
        "colab_type": "text"
      },
      "source": [
        "As we can see from the feature importance plot, features 'region_2', 'country', 'province' and 'variety' are not important to CatBoost Model. Dropping those columns could decreasing training time. Let's try to drop them and see how the score changes:"
      ]
    },
    {
      "cell_type": "code",
      "metadata": {
        "id": "dZb9CMy1mFoj",
        "colab_type": "code",
        "colab": {}
      },
      "source": [
        "X2=X2.drop(columns=['country', 'province', 'region_2', 'variety'])\n",
        "\n",
        "categorical_features_indices =[0,2,3,4,5,6]\n",
        "\n",
        "X_train2, X_test2, y_train2, y_test2 = train_test_split(X2, y2, test_size=0.2, \n",
        "                                                    random_state=42)\n",
        "\n",
        "X_train2, X_valid2, y_train2, y_valid2 = train_test_split(X_train2, y_train2, test_size=0.2, \n",
        "                                                    random_state=52)"
      ],
      "execution_count": 0,
      "outputs": []
    },
    {
      "cell_type": "code",
      "metadata": {
        "id": "l5smX_tJopNn",
        "colab_type": "code",
        "outputId": "62825f5a-50a0-4c88-cf1c-06b3490bfe20",
        "colab": {
          "base_uri": "https://localhost:8080/",
          "height": 51
        }
      },
      "source": [
        "model=perform_model(X_train2, y_train2, X_valid2, y_valid2, X_test2, y_test2)"
      ],
      "execution_count": 0,
      "outputs": [
        {
          "output_type": "stream",
          "text": [
            "RMSE on training data:  1.5256643813745259\n",
            "RMSE on test data:  1.8679501819819297\n"
          ],
          "name": "stdout"
        }
      ]
    },
    {
      "cell_type": "markdown",
      "metadata": {
        "id": "1NrHlPaBpq9J",
        "colab_type": "text"
      },
      "source": [
        "The RMSE of the model after I drop 4 columns which are not important doesn't change a lot. It's feasible to drop those columns to improve model efficiency."
      ]
    },
    {
      "cell_type": "markdown",
      "metadata": {
        "id": "oj6Ga1UhjKEb",
        "colab_type": "text"
      },
      "source": [
        "# Part 4: Small Recommendation System -- Collabrative Filtering\n",
        "This small recommendation system is performed by KNN, the similarity between each pair of customers is represented by cosine similarity.\n",
        "For a customer, I would like to recommend 5 wineries which are similar to the one the customer has reviewed. And those recommended wineries were tasted by 5 other customers who gave points higher than the average:\n",
        "\n",
        "## Part 4.1 Data Preprocessing\n",
        "\n"
      ]
    },
    {
      "cell_type": "code",
      "metadata": {
        "id": "SOrO69O-LQda",
        "colab_type": "code",
        "colab": {}
      },
      "source": [
        "# filter the dataframe, only keep rows which satisfy the condition: 'pinot noir', 'price less than 20 dollars', 'has a fruity taste' and 'points > average'\n",
        "def func(x):\n",
        "  if 'fruity' in x:\n",
        "    return True\n",
        "  return False\n",
        "\n",
        "X_re = pd.DataFrame(X[(wine_df['variety'] == 'Pinot Noir') & (wine_df['price'] < 20) & (wine_df['description'].apply(func)) & (wine_df['points'] > wine_df['points'].mean())])\n",
        "y_re = pd.DataFrame(y[(wine_df['variety'] == 'Pinot Noir') & (wine_df['price'] < 20) & (wine_df['description'].apply(func)) & (wine_df['points'] > wine_df['points'].mean())]).reset_index(drop = True)\n",
        "wine_re = wine_df[(wine_df['variety'] == 'Pinot Noir') & (wine_df['price'] < 20) & (wine_df['description'].apply(func)) & (wine_df['points'] > wine_df['points'].mean())]\n",
        "wine_re_train = pd.concat([X_re, y_re], axis = 1)"
      ],
      "execution_count": 0,
      "outputs": []
    },
    {
      "cell_type": "markdown",
      "metadata": {
        "id": "B5ZBYj9uqjEt",
        "colab_type": "text"
      },
      "source": [
        "## Part 4.2 Model Training and Recommendation"
      ]
    },
    {
      "cell_type": "code",
      "metadata": {
        "id": "BAicSydRW5qJ",
        "colab_type": "code",
        "colab": {}
      },
      "source": [
        "from sklearn.neighbors import NearestNeighbors\n",
        "from scipy.sparse import csr_matrix\n",
        "from sklearn.decomposition import TruncatedSVD\n",
        "\n",
        "knn = NearestNeighbors(n_neighbors=10,algorithm= 'brute', metric= 'cosine')\n",
        "model_knn = knn.fit(wine_re_train)"
      ],
      "execution_count": 0,
      "outputs": []
    },
    {
      "cell_type": "markdown",
      "metadata": {
        "id": "tL5mvmqdqYvK",
        "colab_type": "text"
      },
      "source": [
        "I randomly select a customer from raw dataset 'wine_df', and try to give him/her recommendation from the model."
      ]
    },
    {
      "cell_type": "code",
      "metadata": {
        "id": "lI3-z0B8tIsT",
        "colab_type": "code",
        "outputId": "f294128d-4c4f-4050-ee4f-27edbaedf5fb",
        "colab": {
          "base_uri": "https://localhost:8080/",
          "height": 612
        }
      },
      "source": [
        "import random\n",
        "for i in range(2):\n",
        "  query_index = np.random.choice(pd.concat([pd.DataFrame(X), pd.DataFrame(y)], axis = 1).shape[0])\n",
        "  distance, indice = model_knn.kneighbors(pd.concat([pd.DataFrame(X), pd.DataFrame(y)], axis = 1).iloc[query_index,:].values.reshape(1, -1),n_neighbors= 6)\n",
        "  for i in range(0, len(distance.flatten())):\n",
        "      if  i == 0:\n",
        "          print('Recmmendation for customer {0} in dataset row {1}:\\n'.format(wine_df.iloc[query_index, 8],pd.concat([pd.DataFrame(X), pd.DataFrame(y)], axis = 1).index[query_index]))\n",
        "      else:\n",
        "          print('{0}: {1} with distance: {2}'.format(i, wine_re.iloc[indice.flatten()[i], 12], distance.flatten()[i]))\n",
        "      "
      ],
      "execution_count": 0,
      "outputs": [
        {
          "output_type": "stream",
          "text": [
            "Recmmendation for customer nan in dataset row 13883:\n",
            "\n",
            "1: Dr. Nägler with distance: 0.011897025262433969\n",
            "2: J. Lohr with distance: 0.015233030969037276\n",
            "3: Willm with distance: 0.01562148796809526\n",
            "4: Balletto with distance: 0.015658968179223076\n",
            "5: Villa Wolf with distance: 0.015929275688086997\n",
            "Recmmendation for customer Kerin O’Keefe in dataset row 51837:\n",
            "\n",
            "1: Willm with distance: 0.00042388708821594623\n",
            "2: J. Lohr with distance: 0.0007977300452143288\n",
            "3: Three Brothers with distance: 0.0011844567231310554\n",
            "4: Dr. Nägler with distance: 0.0012684173846814195\n",
            "5: Murphy-Goode with distance: 0.0014919488310070061\n",
            "Recmmendation for customer Lauren Buzzeo in dataset row 12932:\n",
            "\n",
            "1: Willm with distance: 0.009167540030077137\n",
            "2: Balletto with distance: 0.009586663853631494\n",
            "3: J. Lohr with distance: 0.013522808583615209\n",
            "4: Dr. Nägler with distance: 0.01485081544373379\n",
            "5: Three Brothers with distance: 0.015207288103780137\n",
            "Recmmendation for customer Roger Voss in dataset row 83166:\n",
            "\n",
            "1: Wakefield with distance: 0.04750312499019549\n",
            "2: Willm with distance: 0.04791019183876277\n",
            "3: Balletto with distance: 0.04878461196185424\n",
            "4: J. Lohr with distance: 0.051494593165777425\n",
            "5: Simonnet-Febvre with distance: 0.05534249118315393\n",
            "Recmmendation for customer Roger Voss in dataset row 55800:\n",
            "\n",
            "1: Willm with distance: 0.006986447917567529\n",
            "2: Balletto with distance: 0.00722844278658219\n",
            "3: Esterházy with distance: 0.009294054246720362\n",
            "4: P.J. Valckenberg with distance: 0.010290199278800038\n",
            "5: J. Lohr with distance: 0.010525276043425125\n"
          ],
          "name": "stdout"
        }
      ]
    },
    {
      "cell_type": "markdown",
      "metadata": {
        "id": "R_uh-F1U5tst",
        "colab_type": "text"
      },
      "source": [
        "This model could give a simple recommendation for a customer who has reviewed for any wines before. The model calculate the similarity between his/her review and other customers' reviews. This is not 'new-customer-friendly' because if a customer hasn't reviewed yet, the model won't work. "
      ]
    }
  ]
}